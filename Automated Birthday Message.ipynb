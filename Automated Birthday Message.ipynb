{
 "cells": [
  {
   "cell_type": "code",
   "execution_count": 1,
   "id": "ec069890",
   "metadata": {},
   "outputs": [],
   "source": [
    "# Import Libraries\n",
    "from tkinter import *\n",
    "import datetime as dt\n",
    "import pandas as pd\n",
    "import random\n",
    "from random import randint, choice\n",
    "import os, glob\n",
    "import smtplib\n",
    "import pywhatkit as kit\n",
    "from email.message import EmailMessage\n",
    "import pyautogui as pg"
   ]
  },
  {
   "cell_type": "code",
   "execution_count": 2,
   "id": "2cb5d30c",
   "metadata": {},
   "outputs": [
    {
     "name": "stdout",
     "output_type": "stream",
     "text": [
      "15\n",
      "       name                      email  year  month  day        contact\n",
      "0     Lawal  lawalibraheem19@gmail.com  1998     11   15  2349027275724\n",
      "1     Lawal  lawalibraheem19@gmail.com  2003     12   14  2349093949637\n",
      "2  Ibraheem         cnc68522@omeie.com  2000     11   15  2348134111800\n"
     ]
    }
   ],
   "source": [
    "Birthdays = pd.read_csv(r'C:\\Users\\Lawal Ibraheem\\Downloads\\birthdays.csv')\n",
    "folder_path = r'C:\\Users\\Lawal Ibraheem\\Desktop\\Letters'\n",
    "#Read the CSV file of the birthday\n",
    "now = dt.datetime.now() \n",
    "#Read the current date\n",
    "Month = now.month\n",
    "Day = now.day\n",
    "\n",
    "print(Day)\n",
    "print(Birthdays)"
   ]
  },
  {
   "cell_type": "code",
   "execution_count": 3,
   "id": "d012aab6",
   "metadata": {},
   "outputs": [],
   "source": [
    "def get_path(folder_path):\n",
    "    letter_files = [file for file in os.listdir(folder_path) if file.endswith('.txt') ]\n",
    "    \n",
    "    if not letter_files:\n",
    "        return None\n",
    "    \n",
    "    #random choice of letter\n",
    "    random_letter = random.choice(letter_files)\n",
    "    letter_path = os.path.join(folder_path, random_letter)\n",
    "    \n",
    "    with open(letter_path, encoding='cp437') as f:\n",
    "        text = f.read()\n",
    "        text = text.replace(\"Rakshiii\", \"RAIN\")\n",
    "        return text.replace('[NAME]', name)\n",
    "    "
   ]
  },
  {
   "cell_type": "code",
   "execution_count": 4,
   "id": "c86e2c62",
   "metadata": {},
   "outputs": [],
   "source": [
    "for index, row in Birthdays.iterrows():\n",
    "    name = row['name']\n",
    "    mail = row['email']\n",
    "    month = row['month']\n",
    "    day = row['day']\n",
    "    contacts = row['contact']\n",
    "    words = get_path(folder_path)\n",
    "    msg = EmailMessage()\n",
    "    msg['Subject'] = f'Happy Birthday {name}!'\n",
    "    msg['From'] = \"lawalibraheem19@gmail.com\"\n",
    "    msg['To'] = mail\n",
    "    msg.set_content(words)"
   ]
  },
  {
   "cell_type": "code",
   "execution_count": 5,
   "id": "d44a84b6",
   "metadata": {},
   "outputs": [],
   "source": [
    "class Burfthay_automation:\n",
    "    def __init__(self, name, letter):\n",
    "        self.name = name\n",
    "        self.letter = letter\n",
    "    \n",
    "    def send_email(self, email):\n",
    "        self.email = email\n",
    "        with smtplib.SMTP_SSL('smtp.gmail.com', 465) as connection:\n",
    "            connection.login(user = \"lawalibraheem19@gmail.com\", password = \"hpjrmdtzacokkalq\")\n",
    "            connection.send_message(msg)\n",
    "    \n",
    "    def send_whatsapp(self,contact, hours, minutes):\n",
    "        self.contact = contact\n",
    "        self.hours = hours\n",
    "        self.minutes = minutes\n",
    "        try:\n",
    "            win = Tk() # Some Tkinter stuff\n",
    "            screen_width = win.winfo_screenwidth() # Gets the resolution (width) of your monitor\n",
    "            screen_height= win.winfo_screenheight() # Gets the resolution (height) of your monitor\n",
    "            kit.sendwhatmsg(contact, self.letter, hours, minutes)\n",
    "            pg.moveTo(screen_width * 0.694, screen_height* 0.964) # Moves the cursor the the message bar in Whatsapp\n",
    "            pg.click() # Clicks the bar\n",
    "            pg.press(\"enter\")\n",
    "            print(\"Birthday Message successfully sent!\")\n",
    "        except:\n",
    "            print(\"Birthday Message not sent!\")\n",
    "        return None       "
   ]
  },
  {
   "cell_type": "code",
   "execution_count": null,
   "id": "b90ef36e",
   "metadata": {},
   "outputs": [
    {
     "name": "stdout",
     "output_type": "stream",
     "text": [
      "Sent a letter to Ibraheem at cnc68522@omeie.com\n",
      "In 52 Seconds WhatsApp will open and after 15 Seconds Message will be Delivered!\n",
      "Birthday Message successfully sent!\n",
      "Sent a letter to Ibraheem at cnc68522@omeie.com\n",
      "In 86382 Seconds WhatsApp will open and after 15 Seconds Message will be Delivered!\n"
     ]
    }
   ],
   "source": [
    "#iterate over the rows of the birthday file\n",
    "for index, row in Birthdays.iterrows():\n",
    "    send = Burfthay_automation(name, words)\n",
    "    if Day == day and Month == month:\n",
    "        send.send_email(email = mail)\n",
    "        print(f\"Sent a letter to {name} at {mail}\")\n",
    "        send.send_whatsapp(\"+\" + str(contacts), hours= 12, minutes=28)\n",
    "    else:\n",
    "        print(f\"No letters found to send to {name} at {mail}\")"
   ]
  },
  {
   "cell_type": "code",
   "execution_count": null,
   "id": "c5e18564",
   "metadata": {},
   "outputs": [],
   "source": []
  }
 ],
 "metadata": {
  "kernelspec": {
   "display_name": "Python 3 (ipykernel)",
   "language": "python",
   "name": "python3"
  },
  "language_info": {
   "codemirror_mode": {
    "name": "ipython",
    "version": 3
   },
   "file_extension": ".py",
   "mimetype": "text/x-python",
   "name": "python",
   "nbconvert_exporter": "python",
   "pygments_lexer": "ipython3",
   "version": "3.11.4"
  }
 },
 "nbformat": 4,
 "nbformat_minor": 5
}
